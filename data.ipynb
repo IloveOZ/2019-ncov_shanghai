{
 "cells": [
  {
   "cell_type": "code",
   "execution_count": 1,
   "metadata": {},
   "outputs": [
    {
     "data": {
      "text/plain": [
       "[{'name': '外地来沪',\n",
       "  'today': {'confirm': 1,\n",
       "   'suspect': 0,\n",
       "   'dead': 0,\n",
       "   'heal': 0,\n",
       "   'isUpdated': True},\n",
       "  'total': {'confirm': 94, 'suspect': 0, 'dead': 0, 'heal': 16}},\n",
       " {'name': '浦东',\n",
       "  'today': {'confirm': 1,\n",
       "   'suspect': 0,\n",
       "   'dead': 0,\n",
       "   'heal': 0,\n",
       "   'isUpdated': True},\n",
       "  'total': {'confirm': 53, 'suspect': 0, 'dead': 0, 'heal': 6}},\n",
       " {'name': '宝山',\n",
       "  'today': {'confirm': 1,\n",
       "   'suspect': 0,\n",
       "   'dead': 0,\n",
       "   'heal': 0,\n",
       "   'isUpdated': True},\n",
       "  'total': {'confirm': 17, 'suspect': 0, 'dead': 0, 'heal': 0}},\n",
       " {'name': '徐汇',\n",
       "  'today': {'confirm': 0,\n",
       "   'suspect': 0,\n",
       "   'dead': 0,\n",
       "   'heal': 0,\n",
       "   'isUpdated': True},\n",
       "  'total': {'confirm': 16, 'suspect': 0, 'dead': 0, 'heal': 0}},\n",
       " {'name': '静安',\n",
       "  'today': {'confirm': 0,\n",
       "   'suspect': 0,\n",
       "   'dead': 0,\n",
       "   'heal': 0,\n",
       "   'isUpdated': True},\n",
       "  'total': {'confirm': 15, 'suspect': 0, 'dead': 0, 'heal': 3}},\n",
       " {'name': '松江',\n",
       "  'today': {'confirm': 0,\n",
       "   'suspect': 0,\n",
       "   'dead': 0,\n",
       "   'heal': 0,\n",
       "   'isUpdated': True},\n",
       "  'total': {'confirm': 13, 'suspect': 0, 'dead': 0, 'heal': 0}},\n",
       " {'name': '闵行',\n",
       "  'today': {'confirm': 0,\n",
       "   'suspect': 0,\n",
       "   'dead': 0,\n",
       "   'heal': 0,\n",
       "   'isUpdated': True},\n",
       "  'total': {'confirm': 12, 'suspect': 0, 'dead': 0, 'heal': 1}},\n",
       " {'name': '长宁',\n",
       "  'today': {'confirm': 0,\n",
       "   'suspect': 0,\n",
       "   'dead': 0,\n",
       "   'heal': 0,\n",
       "   'isUpdated': True},\n",
       "  'total': {'confirm': 11, 'suspect': 0, 'dead': 0, 'heal': 0}},\n",
       " {'name': '奉贤',\n",
       "  'today': {'confirm': 0,\n",
       "   'suspect': 0,\n",
       "   'dead': 0,\n",
       "   'heal': 0,\n",
       "   'isUpdated': True},\n",
       "  'total': {'confirm': 9, 'suspect': 0, 'dead': 0, 'heal': 1}},\n",
       " {'name': '普陀',\n",
       "  'today': {'confirm': 0,\n",
       "   'suspect': 0,\n",
       "   'dead': 0,\n",
       "   'heal': 0,\n",
       "   'isUpdated': True},\n",
       "  'total': {'confirm': 7, 'suspect': 0, 'dead': 0, 'heal': 0}},\n",
       " {'name': '虹口',\n",
       "  'today': {'confirm': 0,\n",
       "   'suspect': 0,\n",
       "   'dead': 0,\n",
       "   'heal': 0,\n",
       "   'isUpdated': True},\n",
       "  'total': {'confirm': 7, 'suspect': 0, 'dead': 0, 'heal': 0}},\n",
       " {'name': '杨浦',\n",
       "  'today': {'confirm': 0,\n",
       "   'suspect': 0,\n",
       "   'dead': 0,\n",
       "   'heal': 0,\n",
       "   'isUpdated': True},\n",
       "  'total': {'confirm': 7, 'suspect': 0, 'dead': 0, 'heal': 0}},\n",
       " {'name': '嘉定',\n",
       "  'today': {'confirm': 1,\n",
       "   'suspect': 0,\n",
       "   'dead': 0,\n",
       "   'heal': 0,\n",
       "   'isUpdated': True},\n",
       "  'total': {'confirm': 6, 'suspect': 0, 'dead': 0, 'heal': 0}},\n",
       " {'name': '黄浦',\n",
       "  'today': {'confirm': 0,\n",
       "   'suspect': 0,\n",
       "   'dead': 0,\n",
       "   'heal': 0,\n",
       "   'isUpdated': True},\n",
       "  'total': {'confirm': 5, 'suspect': 0, 'dead': 0, 'heal': 1}},\n",
       " {'name': '青浦',\n",
       "  'today': {'confirm': 0,\n",
       "   'suspect': 0,\n",
       "   'dead': 0,\n",
       "   'heal': 0,\n",
       "   'isUpdated': True},\n",
       "  'total': {'confirm': 5, 'suspect': 0, 'dead': 0, 'heal': 2}},\n",
       " {'name': '金山',\n",
       "  'today': {'confirm': 0,\n",
       "   'suspect': 0,\n",
       "   'dead': 0,\n",
       "   'heal': 0,\n",
       "   'isUpdated': True},\n",
       "  'total': {'confirm': 2, 'suspect': 0, 'dead': 0, 'heal': 0}},\n",
       " {'name': '崇明',\n",
       "  'today': {'confirm': 0,\n",
       "   'suspect': 0,\n",
       "   'dead': 0,\n",
       "   'heal': 0,\n",
       "   'isUpdated': True},\n",
       "  'total': {'confirm': 2, 'suspect': 0, 'dead': 0, 'heal': 0}},\n",
       " {'name': '地区待确认',\n",
       "  'today': {'confirm': 0,\n",
       "   'suspect': 0,\n",
       "   'dead': 0,\n",
       "   'heal': 0,\n",
       "   'isUpdated': True},\n",
       "  'total': {'confirm': 0, 'suspect': 0, 'dead': 0, 'heal': 11}}]"
      ]
     },
     "execution_count": 1,
     "metadata": {},
     "output_type": "execute_result"
    }
   ],
   "source": [
    "import time, json, requests\n",
    "url = 'https://view.inews.qq.com/g2/getOnsInfo?name=disease_h5&callback=&_=%d'%int(time.time()*1000)\n",
    "data = json.loads(requests.get(url=url).json()['data'])\n",
    "data['areaTree'][0]['children'][13]['children']"
   ]
  },
  {
   "cell_type": "code",
   "execution_count": 2,
   "metadata": {},
   "outputs": [
    {
     "data": {
      "text/plain": [
       "{'外地来沪': 94,\n",
       " '浦东': 53,\n",
       " '宝山': 17,\n",
       " '徐汇': 16,\n",
       " '静安': 15,\n",
       " '松江': 13,\n",
       " '闵行': 12,\n",
       " '长宁': 11,\n",
       " '奉贤': 9,\n",
       " '普陀': 7,\n",
       " '虹口': 7,\n",
       " '杨浦': 7,\n",
       " '嘉定': 6,\n",
       " '黄浦': 5,\n",
       " '青浦': 5,\n",
       " '金山': 2,\n",
       " '崇明': 2,\n",
       " '地区待确认': 0}"
      ]
     },
     "execution_count": 2,
     "metadata": {},
     "output_type": "execute_result"
    }
   ],
   "source": [
    "new_data = {}\n",
    "for item in data['areaTree'][0]['children']:\n",
    "    if item['name'] == '上海':\n",
    "        for area in item['children']:\n",
    "            new_data.update({area['name']:area['total']['confirm']})\n",
    "new_data"
   ]
  },
  {
   "cell_type": "code",
   "execution_count": 3,
   "metadata": {},
   "outputs": [],
   "source": [
    "from pyecharts import Map"
   ]
  },
  {
   "cell_type": "code",
   "execution_count": 4,
   "metadata": {},
   "outputs": [
    {
     "data": {
      "text/plain": [
       "94"
      ]
     },
     "execution_count": 4,
     "metadata": {},
     "output_type": "execute_result"
    }
   ],
   "source": [
    "value = []\n",
    "attr = ['浦东新区','宝山区','徐汇区','静安区','松江区','闵行区','长宁区','奉贤区','虹口区','杨浦区','普陀区','嘉定区','黄浦区','青浦区','崇明县','金山区']\n",
    "for i in new_data.keys():\n",
    "    value.append(new_data[i])\n",
    "value.pop()\n",
    "value.pop(0)"
   ]
  },
  {
   "cell_type": "code",
   "execution_count": 6,
   "metadata": {},
   "outputs": [],
   "source": [
    "map = Map(\"上海\", width=1200, height=600)\n",
    "map.add(\"\", attr, value, visual_range=[1, 50], maptype='上海', is_visualmap=True,\n",
    "    visual_text_color='#000')\n",
    "map.render(path=\"./map/上海疫情分布.html\")"
   ]
  },
  {
   "cell_type": "code",
   "execution_count": null,
   "metadata": {},
   "outputs": [],
   "source": []
  }
 ],
 "metadata": {
  "kernelspec": {
   "display_name": "Python 3",
   "language": "python",
   "name": "python3"
  },
  "language_info": {
   "codemirror_mode": {
    "name": "ipython",
    "version": 3
   },
   "file_extension": ".py",
   "mimetype": "text/x-python",
   "name": "python",
   "nbconvert_exporter": "python",
   "pygments_lexer": "ipython3",
   "version": "3.7.4"
  }
 },
 "nbformat": 4,
 "nbformat_minor": 2
}
