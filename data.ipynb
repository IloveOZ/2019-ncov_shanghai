{
 "cells": [
  {
   "cell_type": "code",
   "execution_count": 13,
   "metadata": {},
   "outputs": [
    {
     "data": {
      "text/plain": [
       "[{'name': '外地来沪',\n",
       "  'today': {'confirm': 1,\n",
       "   'suspect': 0,\n",
       "   'dead': 0,\n",
       "   'heal': 0,\n",
       "   'isUpdated': True},\n",
       "  'total': {'confirm': 97, 'suspect': 0, 'dead': 0, 'heal': 20}},\n",
       " {'name': '浦东',\n",
       "  'today': {'confirm': 3,\n",
       "   'suspect': 0,\n",
       "   'dead': 0,\n",
       "   'heal': 0,\n",
       "   'isUpdated': True},\n",
       "  'total': {'confirm': 56, 'suspect': 0, 'dead': 0, 'heal': 8}},\n",
       " {'name': '宝山',\n",
       "  'today': {'confirm': 0,\n",
       "   'suspect': 0,\n",
       "   'dead': 0,\n",
       "   'heal': 0,\n",
       "   'isUpdated': True},\n",
       "  'total': {'confirm': 17, 'suspect': 0, 'dead': 0, 'heal': 0}},\n",
       " {'name': '静安',\n",
       "  'today': {'confirm': 1,\n",
       "   'suspect': 0,\n",
       "   'dead': 0,\n",
       "   'heal': 0,\n",
       "   'isUpdated': True},\n",
       "  'total': {'confirm': 16, 'suspect': 0, 'dead': 0, 'heal': 3}},\n",
       " {'name': '徐汇',\n",
       "  'today': {'confirm': 0,\n",
       "   'suspect': 0,\n",
       "   'dead': 0,\n",
       "   'heal': 0,\n",
       "   'isUpdated': True},\n",
       "  'total': {'confirm': 16, 'suspect': 0, 'dead': 0, 'heal': 1}},\n",
       " {'name': '闵行',\n",
       "  'today': {'confirm': 0,\n",
       "   'suspect': 0,\n",
       "   'dead': 0,\n",
       "   'heal': 0,\n",
       "   'isUpdated': True},\n",
       "  'total': {'confirm': 14, 'suspect': 0, 'dead': 0, 'heal': 2}},\n",
       " {'name': '松江',\n",
       "  'today': {'confirm': 0,\n",
       "   'suspect': 0,\n",
       "   'dead': 0,\n",
       "   'heal': 0,\n",
       "   'isUpdated': True},\n",
       "  'total': {'confirm': 14, 'suspect': 0, 'dead': 0, 'heal': 0}},\n",
       " {'name': '长宁',\n",
       "  'today': {'confirm': 0,\n",
       "   'suspect': 0,\n",
       "   'dead': 0,\n",
       "   'heal': 0,\n",
       "   'isUpdated': True},\n",
       "  'total': {'confirm': 11, 'suspect': 0, 'dead': 0, 'heal': 1}},\n",
       " {'name': '奉贤',\n",
       "  'today': {'confirm': 0,\n",
       "   'suspect': 0,\n",
       "   'dead': 0,\n",
       "   'heal': 0,\n",
       "   'isUpdated': True},\n",
       "  'total': {'confirm': 9, 'suspect': 0, 'dead': 0, 'heal': 1}},\n",
       " {'name': '普陀',\n",
       "  'today': {'confirm': 1,\n",
       "   'suspect': 0,\n",
       "   'dead': 0,\n",
       "   'heal': 0,\n",
       "   'isUpdated': True},\n",
       "  'total': {'confirm': 8, 'suspect': 0, 'dead': 0, 'heal': 0}},\n",
       " {'name': '杨浦',\n",
       "  'today': {'confirm': 0,\n",
       "   'suspect': 0,\n",
       "   'dead': 0,\n",
       "   'heal': 0,\n",
       "   'isUpdated': True},\n",
       "  'total': {'confirm': 7, 'suspect': 0, 'dead': 0, 'heal': 0}},\n",
       " {'name': '虹口',\n",
       "  'today': {'confirm': 0,\n",
       "   'suspect': 0,\n",
       "   'dead': 0,\n",
       "   'heal': 0,\n",
       "   'isUpdated': True},\n",
       "  'total': {'confirm': 7, 'suspect': 0, 'dead': 0, 'heal': 1}},\n",
       " {'name': '嘉定',\n",
       "  'today': {'confirm': 0,\n",
       "   'suspect': 0,\n",
       "   'dead': 0,\n",
       "   'heal': 0,\n",
       "   'isUpdated': True},\n",
       "  'total': {'confirm': 6, 'suspect': 0, 'dead': 0, 'heal': 1}},\n",
       " {'name': '青浦',\n",
       "  'today': {'confirm': 0,\n",
       "   'suspect': 0,\n",
       "   'dead': 0,\n",
       "   'heal': 0,\n",
       "   'isUpdated': True},\n",
       "  'total': {'confirm': 5, 'suspect': 0, 'dead': 0, 'heal': 2}},\n",
       " {'name': '黄浦',\n",
       "  'today': {'confirm': 0,\n",
       "   'suspect': 0,\n",
       "   'dead': 0,\n",
       "   'heal': 0,\n",
       "   'isUpdated': True},\n",
       "  'total': {'confirm': 5, 'suspect': 0, 'dead': 0, 'heal': 1}},\n",
       " {'name': '金山',\n",
       "  'today': {'confirm': 0,\n",
       "   'suspect': 0,\n",
       "   'dead': 0,\n",
       "   'heal': 0,\n",
       "   'isUpdated': True},\n",
       "  'total': {'confirm': 2, 'suspect': 0, 'dead': 0, 'heal': 0}},\n",
       " {'name': '崇明',\n",
       "  'today': {'confirm': 0,\n",
       "   'suspect': 0,\n",
       "   'dead': 0,\n",
       "   'heal': 0,\n",
       "   'isUpdated': True},\n",
       "  'total': {'confirm': 2, 'suspect': 0, 'dead': 0, 'heal': 0}},\n",
       " {'name': '地区待确认',\n",
       "  'today': {'confirm': 0,\n",
       "   'suspect': 0,\n",
       "   'dead': 0,\n",
       "   'heal': 0,\n",
       "   'isUpdated': True},\n",
       "  'total': {'confirm': 0, 'suspect': 0, 'dead': 1, 'heal': 0}}]"
      ]
     },
     "execution_count": 13,
     "metadata": {},
     "output_type": "execute_result"
    }
   ],
   "source": [
    "import time, json, requests\n",
    "url = 'https://view.inews.qq.com/g2/getOnsInfo?name=disease_h5&callback=&_=%d'%int(time.time()*1000)\n",
    "header = {\"User-Agent\": \"Mozilla/5.0 (Macintosh; Intel Mac OS X 10_15_3) AppleWebKit/537.36 (KHTML, like Gecko) Chrome/79.0.3945.130 Safari/537.36\"}\n",
    "data = json.loads(requests.get(url=url, headers=header).json()['data'])\n",
    "data['areaTree'][0]['children'][13]['children']"
   ]
  },
  {
   "cell_type": "code",
   "execution_count": 14,
   "metadata": {},
   "outputs": [
    {
     "data": {
      "text/plain": [
       "{'外地来沪': 97,\n",
       " '浦东': 56,\n",
       " '宝山': 17,\n",
       " '静安': 16,\n",
       " '徐汇': 16,\n",
       " '闵行': 14,\n",
       " '松江': 14,\n",
       " '长宁': 11,\n",
       " '奉贤': 9,\n",
       " '普陀': 8,\n",
       " '杨浦': 7,\n",
       " '虹口': 7,\n",
       " '嘉定': 6,\n",
       " '青浦': 5,\n",
       " '黄浦': 5,\n",
       " '金山': 2,\n",
       " '崇明': 2,\n",
       " '地区待确认': 0}"
      ]
     },
     "execution_count": 14,
     "metadata": {},
     "output_type": "execute_result"
    }
   ],
   "source": [
    "new_data = {}\n",
    "for item in data['areaTree'][0]['children']:\n",
    "    if item['name'] == '上海':\n",
    "        for area in item['children']:\n",
    "            new_data.update({area['name']:area['total']['confirm']})\n",
    "new_data"
   ]
  },
  {
   "cell_type": "code",
   "execution_count": 15,
   "metadata": {},
   "outputs": [],
   "source": [
    "from pyecharts import Map"
   ]
  },
  {
   "cell_type": "code",
   "execution_count": 20,
   "metadata": {},
   "outputs": [
    {
     "data": {
      "text/plain": [
       "97"
      ]
     },
     "execution_count": 20,
     "metadata": {},
     "output_type": "execute_result"
    }
   ],
   "source": [
    "value = []\n",
    "attr = []\n",
    "for i in new_data.keys():\n",
    "    value.append(new_data[i])\n",
    "    if i == '外地来沪' or i == '地区待确认':\n",
    "        continue\n",
    "    if i == '浦东':\n",
    "        attr.append('浦东新区')\n",
    "    elif i == '崇明':\n",
    "        attr.append('崇明县')\n",
    "    else:\n",
    "        attr.append(i + '区')\n",
    "value.pop()\n",
    "value.pop(0)"
   ]
  },
  {
   "cell_type": "code",
   "execution_count": 21,
   "metadata": {},
   "outputs": [],
   "source": [
    "map = Map(\"上海\", width=1200, height=600)\n",
    "map.add(\"\", attr, value, visual_range=[1, 50], maptype='上海', is_visualmap=True,\n",
    "    visual_text_color='#000')\n",
    "map.render(path=\"./map/上海疫情分布.html\")"
   ]
  },
  {
   "cell_type": "code",
   "execution_count": null,
   "metadata": {},
   "outputs": [],
   "source": []
  }
 ],
 "metadata": {
  "kernelspec": {
   "display_name": "Python 3",
   "language": "python",
   "name": "python3"
  },
  "language_info": {
   "codemirror_mode": {
    "name": "ipython",
    "version": 3
   },
   "file_extension": ".py",
   "mimetype": "text/x-python",
   "name": "python",
   "nbconvert_exporter": "python",
   "pygments_lexer": "ipython3",
   "version": "3.7.4"
  }
 },
 "nbformat": 4,
 "nbformat_minor": 2
}
